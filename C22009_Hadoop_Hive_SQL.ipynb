{
  "nbformat": 4,
  "nbformat_minor": 0,
  "metadata": {
    "colab": {
      "provenance": []
    },
    "kernelspec": {
      "name": "python3",
      "display_name": "Python 3"
    },
    "language_info": {
      "name": "python"
    }
  },
  "cells": [
    {
      "cell_type": "markdown",
      "source": [
        "# HADOOP\n"
      ],
      "metadata": {
        "id": "KqPGAE9KYHfZ"
      }
    },
    {
      "cell_type": "markdown",
      "source": [
        "##1.1 Installing Hadoop\n"
      ],
      "metadata": {
        "id": "ml26CONNYJ7P"
      }
    },
    {
      "cell_type": "code",
      "source": [
        "#Installing JVM\n",
        "!apt-get install openjdk-8-jdk-headless -qq > /dev/null"
      ],
      "metadata": {
        "id": "q49ZVILuYOh_"
      },
      "execution_count": null,
      "outputs": []
    },
    {
      "cell_type": "code",
      "source": [
        "#Downloading Hadoop\n",
        "!wget https://downloads.apache.org/hadoop/common/hadoop-3.3.2/hadoop-3.3.2.tar.gz"
      ],
      "metadata": {
        "colab": {
          "base_uri": "https://localhost:8080/"
        },
        "id": "74ACpBClYiuf",
        "outputId": "5bc2d1c7-cbd5-4136-8b65-9dd06bc2f30d"
      },
      "execution_count": null,
      "outputs": [
        {
          "output_type": "stream",
          "name": "stdout",
          "text": [
            "--2022-05-07 21:08:26--  https://downloads.apache.org/hadoop/common/hadoop-3.3.2/hadoop-3.3.2.tar.gz\n",
            "Resolving downloads.apache.org (downloads.apache.org)... 135.181.214.104, 88.99.95.219, 2a01:4f9:3a:2c57::2, ...\n",
            "Connecting to downloads.apache.org (downloads.apache.org)|135.181.214.104|:443... connected.\n",
            "HTTP request sent, awaiting response... 200 OK\n",
            "Length: 638660563 (609M) [application/x-gzip]\n",
            "Saving to: ‘hadoop-3.3.2.tar.gz’\n",
            "\n",
            "hadoop-3.3.2.tar.gz 100%[===================>] 609.07M  10.7MB/s    in 60s     \n",
            "\n",
            "2022-05-07 21:09:27 (10.2 MB/s) - ‘hadoop-3.3.2.tar.gz’ saved [638660563/638660563]\n",
            "\n"
          ]
        }
      ]
    },
    {
      "cell_type": "code",
      "source": [
        "#Unzipping Hadoop\n",
        "!tar -xzf hadoop-3.3.2.tar.gz"
      ],
      "metadata": {
        "id": "LSC_5HxtYxcJ"
      },
      "execution_count": null,
      "outputs": []
    },
    {
      "cell_type": "code",
      "source": [
        "#Copying to local file\n",
        "!mv  hadoop-3.3.2/ /usr/local/"
      ],
      "metadata": {
        "id": "ALMmm34TY38g"
      },
      "execution_count": null,
      "outputs": []
    },
    {
      "cell_type": "markdown",
      "source": [
        "##1.2 Setting Environment Variables"
      ],
      "metadata": {
        "id": "ZerBP2NfZDUs"
      }
    },
    {
      "cell_type": "code",
      "source": [
        "#To find the default Java path\n",
        "!readlink -f /usr/bin/java | sed \"s:bin/java::\""
      ],
      "metadata": {
        "colab": {
          "base_uri": "https://localhost:8080/"
        },
        "id": "itxeWkK9ZBIc",
        "outputId": "1b39c0dc-023a-438c-ab42-c1f88822221a"
      },
      "execution_count": null,
      "outputs": [
        {
          "output_type": "stream",
          "name": "stdout",
          "text": [
            "/usr/lib/jvm/java-11-openjdk-amd64/\n"
          ]
        }
      ]
    },
    {
      "cell_type": "code",
      "source": [
        "!ls /usr/lib/jvm/"
      ],
      "metadata": {
        "colab": {
          "base_uri": "https://localhost:8080/"
        },
        "id": "rXsYiaH5ZLHF",
        "outputId": "85b04c12-17c6-4a02-af15-f67f60518fc1"
      },
      "execution_count": null,
      "outputs": [
        {
          "output_type": "stream",
          "name": "stdout",
          "text": [
            "default-java\t\t   java-11-openjdk-amd64     java-8-openjdk-amd64\n",
            "java-1.11.0-openjdk-amd64  java-1.8.0-openjdk-amd64\n"
          ]
        }
      ]
    },
    {
      "cell_type": "code",
      "source": [
        "#Setting java path\n",
        "import os\n",
        "os.environ[\"JAVA_HOME\"] = \"/usr/lib/jvm/java-8-openjdk-amd64\"   # default is changed\n",
        "os.environ[\"HADOOP_HOME\"] = \"/usr/local/hadoop-3.3.2/\""
      ],
      "metadata": {
        "id": "HAh7sw7lZQ0n"
      },
      "execution_count": null,
      "outputs": []
    },
    {
      "cell_type": "code",
      "source": [
        "!echo $PATH"
      ],
      "metadata": {
        "colab": {
          "base_uri": "https://localhost:8080/"
        },
        "id": "2jS8xLO8ZXqY",
        "outputId": "5dee48fe-e7ec-4642-ac46-0d7e81cb60c1"
      },
      "execution_count": null,
      "outputs": [
        {
          "output_type": "stream",
          "name": "stdout",
          "text": [
            "/opt/bin:/usr/local/nvidia/bin:/usr/local/cuda/bin:/usr/local/sbin:/usr/local/bin:/usr/sbin:/usr/bin:/sbin:/bin:/tools/node/bin:/tools/google-cloud-sdk/bin\n"
          ]
        }
      ]
    },
    {
      "cell_type": "code",
      "source": [
        "# Add Hadoop BIN to PATH\n",
        "# get current_path from output of previous command\n",
        "current_path = '/opt/bin:/usr/local/nvidia/bin:/usr/local/cuda/bin:/usr/local/sbin:/usr/local/bin:/usr/sbin:/usr/bin:/sbin:/bin:/tools/node/bin:/tools/google-cloud-sdk/bin'\n",
        "new_path = current_path+':/usr/local/hadoop-3.3.2/bin/'\n",
        "os.environ[\"PATH\"] = new_path"
      ],
      "metadata": {
        "id": "rEjfIcXLZYGW"
      },
      "execution_count": null,
      "outputs": []
    },
    {
      "cell_type": "markdown",
      "source": [
        "## 1.3 Testing Hadoop\n"
      ],
      "metadata": {
        "id": "4ot3lVMFZim3"
      }
    },
    {
      "cell_type": "code",
      "source": [
        "!hadoop"
      ],
      "metadata": {
        "colab": {
          "base_uri": "https://localhost:8080/"
        },
        "id": "MChYC19cZnAO",
        "outputId": "5fdd1568-41a3-43ba-c0aa-14cc9c80d162"
      },
      "execution_count": null,
      "outputs": [
        {
          "output_type": "stream",
          "name": "stdout",
          "text": [
            "Usage: hadoop [OPTIONS] SUBCOMMAND [SUBCOMMAND OPTIONS]\n",
            " or    hadoop [OPTIONS] CLASSNAME [CLASSNAME OPTIONS]\n",
            "  where CLASSNAME is a user-provided Java class\n",
            "\n",
            "  OPTIONS is none or any of:\n",
            "\n",
            "buildpaths                       attempt to add class files from build tree\n",
            "--config dir                     Hadoop config directory\n",
            "--debug                          turn on shell script debug mode\n",
            "--help                           usage information\n",
            "hostnames list[,of,host,names]   hosts to use in slave mode\n",
            "hosts filename                   list of hosts to use in slave mode\n",
            "loglevel level                   set the log4j level for this command\n",
            "workers                          turn on worker mode\n",
            "\n",
            "  SUBCOMMAND is one of:\n",
            "\n",
            "\n",
            "    Admin Commands:\n",
            "\n",
            "daemonlog     get/set the log level for each daemon\n",
            "\n",
            "    Client Commands:\n",
            "\n",
            "archive       create a Hadoop archive\n",
            "checknative   check native Hadoop and compression libraries availability\n",
            "classpath     prints the class path needed to get the Hadoop jar and the\n",
            "              required libraries\n",
            "conftest      validate configuration XML files\n",
            "credential    interact with credential providers\n",
            "distch        distributed metadata changer\n",
            "distcp        copy file or directories recursively\n",
            "dtutil        operations related to delegation tokens\n",
            "envvars       display computed Hadoop environment variables\n",
            "fs            run a generic filesystem user client\n",
            "gridmix       submit a mix of synthetic job, modeling a profiled from\n",
            "              production load\n",
            "jar <jar>     run a jar file. NOTE: please use \"yarn jar\" to launch YARN\n",
            "              applications, not this command.\n",
            "jnipath       prints the java.library.path\n",
            "kdiag         Diagnose Kerberos Problems\n",
            "kerbname      show auth_to_local principal conversion\n",
            "key           manage keys via the KeyProvider\n",
            "rumenfolder   scale a rumen input trace\n",
            "rumentrace    convert logs into a rumen trace\n",
            "s3guard       manage metadata on S3\n",
            "trace         view and modify Hadoop tracing settings\n",
            "version       print the version\n",
            "\n",
            "    Daemon Commands:\n",
            "\n",
            "kms           run KMS, the Key Management Server\n",
            "registrydns   run the registry DNS server\n",
            "\n",
            "SUBCOMMAND may print help when invoked w/o parameters or with -h.\n"
          ]
        }
      ]
    },
    {
      "cell_type": "markdown",
      "source": [
        "#HIVE"
      ],
      "metadata": {
        "id": "43aseMWKZtZv"
      }
    },
    {
      "cell_type": "markdown",
      "source": [
        "##2.1 Installing HIVE"
      ],
      "metadata": {
        "id": "ClDTWEF2Zwle"
      }
    },
    {
      "cell_type": "code",
      "source": [
        "# Download and Unzip the correct version and unzip\n",
        "!wget https://downloads.apache.org/hive/hive-3.1.2/apache-hive-3.1.2-bin.tar.gz\n",
        "!tar xzf apache-hive-3.1.2-bin.tar.gz"
      ],
      "metadata": {
        "colab": {
          "base_uri": "https://localhost:8080/"
        },
        "id": "pOrS9ZL4ZvLA",
        "outputId": "5a3ee6f7-6813-45d3-e76b-1ebe486b8289"
      },
      "execution_count": null,
      "outputs": [
        {
          "output_type": "stream",
          "name": "stdout",
          "text": [
            "--2022-05-07 21:09:48--  https://downloads.apache.org/hive/hive-3.1.2/apache-hive-3.1.2-bin.tar.gz\n",
            "Resolving downloads.apache.org (downloads.apache.org)... 135.181.214.104, 88.99.95.219, 2a01:4f8:10a:201a::2, ...\n",
            "Connecting to downloads.apache.org (downloads.apache.org)|135.181.214.104|:443... connected.\n",
            "HTTP request sent, awaiting response... 200 OK\n",
            "Length: 278813748 (266M) [application/x-gzip]\n",
            "Saving to: ‘apache-hive-3.1.2-bin.tar.gz’\n",
            "\n",
            "apache-hive-3.1.2-b 100%[===================>] 265.90M  10.7MB/s    in 27s     \n",
            "\n",
            "2022-05-07 21:10:16 (9.76 MB/s) - ‘apache-hive-3.1.2-bin.tar.gz’ saved [278813748/278813748]\n",
            "\n"
          ]
        }
      ]
    },
    {
      "cell_type": "markdown",
      "source": [
        "#2.2  Set Environment variables"
      ],
      "metadata": {
        "id": "F0l_spP3aIS_"
      }
    },
    {
      "cell_type": "code",
      "source": [
        "# Make sure that the version number is correct and is as downloaded\n",
        "os.environ[\"HIVE_HOME\"] = \"/content/apache-hive-3.1.2-bin\"\n",
        "!echo $HIVE_HOME"
      ],
      "metadata": {
        "colab": {
          "base_uri": "https://localhost:8080/"
        },
        "id": "1aloYjv-aOpI",
        "outputId": "6e4aeb39-9c4d-402b-924a-4cad2d103be7"
      },
      "execution_count": null,
      "outputs": [
        {
          "output_type": "stream",
          "name": "stdout",
          "text": [
            "/content/apache-hive-3.1.2-bin\n"
          ]
        }
      ]
    },
    {
      "cell_type": "code",
      "source": [
        "!echo $PATH"
      ],
      "metadata": {
        "colab": {
          "base_uri": "https://localhost:8080/"
        },
        "id": "HFMzU3YuaUVf",
        "outputId": "5bfb53dd-72ad-4d15-b0c9-6b44ec985807"
      },
      "execution_count": null,
      "outputs": [
        {
          "output_type": "stream",
          "name": "stdout",
          "text": [
            "/opt/bin:/usr/local/nvidia/bin:/usr/local/cuda/bin:/usr/local/sbin:/usr/local/bin:/usr/sbin:/usr/bin:/sbin:/bin:/tools/node/bin:/tools/google-cloud-sdk/bin:/usr/local/hadoop-3.3.2/bin/\n"
          ]
        }
      ]
    },
    {
      "cell_type": "code",
      "source": [
        "# current_path is set from output of previous command\n",
        "current_path = '/opt/bin:/usr/local/nvidia/bin:/usr/local/cuda/bin:/usr/local/sbin:/usr/local/bin:/usr/sbin:/usr/bin:/sbin:/bin:/tools/node/bin:/tools/google-cloud-sdk/bin:/usr/local/hadoop-3.3.2/bin/'\n",
        "new_path = current_path+':/content/apache-hive-3.1.2-bin/bin'\n",
        "os.environ[\"PATH\"] = new_path\n",
        "!echo $PATH"
      ],
      "metadata": {
        "colab": {
          "base_uri": "https://localhost:8080/"
        },
        "id": "fVpSBuk1abWS",
        "outputId": "a3d00cf1-f083-4afc-d19a-f4c1ab4413f4"
      },
      "execution_count": null,
      "outputs": [
        {
          "output_type": "stream",
          "name": "stdout",
          "text": [
            "/opt/bin:/usr/local/nvidia/bin:/usr/local/cuda/bin:/usr/local/sbin:/usr/local/bin:/usr/sbin:/usr/bin:/sbin:/bin:/tools/node/bin:/tools/google-cloud-sdk/bin:/usr/local/hadoop-3.3.2/bin/:/content/apache-hive-3.1.2-bin/bin\n"
          ]
        }
      ]
    },
    {
      "cell_type": "code",
      "source": [
        "!echo $JAVA_HOME\n",
        "!echo $HADOOP_HOME\n",
        "!echo $HIVE_HOME"
      ],
      "metadata": {
        "colab": {
          "base_uri": "https://localhost:8080/"
        },
        "id": "6_GJTl1Gae5n",
        "outputId": "021ca937-994b-4277-8411-e97c850872ea"
      },
      "execution_count": null,
      "outputs": [
        {
          "output_type": "stream",
          "name": "stdout",
          "text": [
            "/usr/lib/jvm/java-8-openjdk-amd64\n",
            "/usr/local/hadoop-3.3.2/\n",
            "/content/apache-hive-3.1.2-bin\n"
          ]
        }
      ]
    },
    {
      "cell_type": "markdown",
      "source": [
        "## 2.3 Set up HDFS Directories"
      ],
      "metadata": {
        "id": "XDaE82SIanFf"
      }
    },
    {
      "cell_type": "code",
      "source": [
        "!hdfs dfs -mkdir /tmp\n",
        "!hdfs dfs -chmod g+w /tmp\n",
        "#!hdfs dfs -ls /\n",
        "!hdfs dfs -mkdir -p /content/warehouse\n",
        "!hdfs dfs -chmod g+w /content/warehouse\n",
        "#!hdfs dfs -ls /content/"
      ],
      "metadata": {
        "colab": {
          "base_uri": "https://localhost:8080/"
        },
        "id": "8wAyGqWCanwG",
        "outputId": "9e8c5d93-1e29-4244-e5e5-dab8166727a3"
      },
      "execution_count": null,
      "outputs": [
        {
          "output_type": "stream",
          "name": "stdout",
          "text": [
            "mkdir: `/tmp': File exists\n"
          ]
        }
      ]
    },
    {
      "cell_type": "markdown",
      "source": [
        "## 2.4 Initialise HIVE - note and fix errors"
      ],
      "metadata": {
        "id": "qy5ll3q1asf-"
      }
    },
    {
      "cell_type": "code",
      "source": [
        "!schematool -initSchema -dbType derby"
      ],
      "metadata": {
        "colab": {
          "base_uri": "https://localhost:8080/"
        },
        "id": "mL6IcxltatE2",
        "outputId": "55bf6e99-3beb-4fd8-c967-e1f765e21c5e"
      },
      "execution_count": null,
      "outputs": [
        {
          "output_type": "stream",
          "name": "stdout",
          "text": [
            "SLF4J: Class path contains multiple SLF4J bindings.\n",
            "SLF4J: Found binding in [jar:file:/content/apache-hive-3.1.2-bin/lib/log4j-slf4j-impl-2.10.0.jar!/org/slf4j/impl/StaticLoggerBinder.class]\n",
            "SLF4J: Found binding in [jar:file:/usr/local/hadoop-3.3.2/share/hadoop/common/lib/slf4j-log4j12-1.7.30.jar!/org/slf4j/impl/StaticLoggerBinder.class]\n",
            "SLF4J: See http://www.slf4j.org/codes.html#multiple_bindings for an explanation.\n",
            "SLF4J: Actual binding is of type [org.apache.logging.slf4j.Log4jLoggerFactory]\n",
            "Metastore connection URL:\t jdbc:derby:;databaseName=metastore_db;create=true\n",
            "Metastore Connection Driver :\t org.apache.derby.jdbc.EmbeddedDriver\n",
            "Metastore connection User:\t APP\n",
            "Starting metastore schema initialization to 3.1.0\n",
            "Initialization script hive-schema-3.1.0.derby.sql\n",
            "\n",
            " \n",
            " \n",
            " \n",
            " \n",
            " \n",
            " \n",
            " \n",
            " \n",
            " \n",
            "\n",
            " \n",
            " \n",
            " \n",
            " \n",
            " \n",
            " \n",
            " \n",
            " \n",
            " \n",
            " \n",
            " \n",
            " \n",
            " \n",
            " \n",
            " \n",
            " \n",
            " \n",
            " \n",
            " \n",
            " \n",
            " \n",
            " \n",
            " \n",
            " \n",
            " \n",
            "\n",
            " \n",
            " \n",
            " \n",
            " \n",
            " \n",
            " \n",
            " \n",
            " \n",
            " \n",
            " \n",
            " \n",
            " \n",
            " \n",
            " \n",
            " \n",
            " \n",
            " \n",
            " \n",
            " \n",
            " \n",
            " \n",
            " \n",
            "\n",
            " \n",
            " \n",
            " \n",
            " \n",
            " \n",
            " \n",
            " \n",
            " \n",
            "\n",
            " \n",
            "\n",
            " \n",
            " \n",
            " \n",
            "\n",
            " \n",
            " \n",
            " \n",
            "\n",
            "\n",
            " \n",
            " \n",
            " \n",
            "\n",
            " \n",
            " \n",
            " \n",
            "\n",
            "\n",
            " \n",
            " \n",
            " \n",
            " \n",
            " \n",
            " \n",
            " \n",
            "\n",
            "\n",
            " \n",
            " \n",
            " \n",
            "\n",
            " \n",
            " \n",
            " \n",
            "\n",
            " \n",
            " \n",
            "\n",
            " \n",
            " \n",
            " \n",
            " \n",
            " \n",
            "\n",
            " \n",
            " \n",
            " \n",
            " \n",
            " \n",
            " \n",
            " \n",
            " \n",
            " \n",
            " \n",
            " \n",
            " \n",
            "\n",
            " \n",
            " \n",
            " \n",
            " \n",
            " \n",
            " \n",
            "\n",
            " \n",
            " \n",
            " \n",
            " \n",
            " \n",
            " \n",
            " \n",
            " \n",
            " \n",
            " \n",
            " \n",
            " \n",
            " \n",
            " \n",
            " \n",
            " \n",
            " \n",
            " \n",
            " \n",
            "\n",
            " \n",
            " \n",
            " \n",
            " \n",
            " \n",
            " \n",
            " \n",
            " \n",
            " \n",
            " \n",
            " \n",
            " \n",
            " \n",
            " \n",
            " \n",
            " \n",
            " \n",
            "\n",
            " \n",
            " \n",
            " \n",
            "\n",
            " \n",
            " \n",
            " \n",
            " \n",
            " \n",
            " \n",
            " \n",
            " \n",
            " \n",
            " \n",
            " \n",
            " \n",
            " \n",
            " \n",
            " \n",
            " \n",
            "\n",
            " \n",
            " \n",
            "\n",
            "\n",
            " \n",
            "\n",
            "\n",
            "\n",
            " \n",
            "\n",
            "\n",
            " \n",
            " \n",
            " \n",
            " \n",
            " \n",
            " \n",
            " \n",
            " \n",
            " \n",
            "\n",
            " \n",
            " \n",
            " \n",
            " \n",
            " \n",
            " \n",
            "\n",
            " \n",
            "\n",
            "\n",
            "Initialization script completed\n",
            "schemaTool completed\n"
          ]
        }
      ]
    },
    {
      "cell_type": "markdown",
      "source": [
        "### 2.4.1 Fix One Warning, One Error "
      ],
      "metadata": {
        "id": "b_jsaNklbWjs"
      }
    },
    {
      "cell_type": "code",
      "source": [
        "# locate multiple instances of slf4j ...\n",
        "!ls $HADOOP_HOME/share/hadoop/common/lib/*slf4j*\n",
        "!ls $HIVE_HOME/lib/*slf4j*"
      ],
      "metadata": {
        "colab": {
          "base_uri": "https://localhost:8080/"
        },
        "id": "9Xnsd3hFbRpE",
        "outputId": "13ef37f0-b859-4411-c09a-2929a2042f3f"
      },
      "execution_count": null,
      "outputs": [
        {
          "output_type": "stream",
          "name": "stdout",
          "text": [
            "/usr/local/hadoop-3.3.2//share/hadoop/common/lib/jul-to-slf4j-1.7.30.jar\n",
            "/usr/local/hadoop-3.3.2//share/hadoop/common/lib/slf4j-api-1.7.30.jar\n",
            "/usr/local/hadoop-3.3.2//share/hadoop/common/lib/slf4j-log4j12-1.7.30.jar\n",
            "/content/apache-hive-3.1.2-bin/lib/log4j-slf4j-impl-2.10.0.jar\n"
          ]
        }
      ]
    },
    {
      "cell_type": "code",
      "source": [
        "# removed the logging jar from Hive, retaining the Hadoop jar\n",
        "!mv /content/apache-hive-3.1.2-bin/lib/log4j-slf4j-impl-2.10.0.jar ./"
      ],
      "metadata": {
        "id": "A_QUlbqDbcwn"
      },
      "execution_count": null,
      "outputs": []
    },
    {
      "cell_type": "code",
      "source": [
        "# guava jar needs to above v 20\n",
        "# https://stackoverflow.com/questions/45247193/nosuchmethoderror-com-google-common-base-preconditions-checkargumentzljava-lan\n",
        "!ls $HIVE_HOME/lib/gu*"
      ],
      "metadata": {
        "colab": {
          "base_uri": "https://localhost:8080/"
        },
        "id": "4qHvJMi_bfNf",
        "outputId": "4b3bfcd1-f3f7-46b5-e226-ccd08c9654f7"
      },
      "execution_count": null,
      "outputs": [
        {
          "output_type": "stream",
          "name": "stdout",
          "text": [
            "/content/apache-hive-3.1.2-bin/lib/guava-19.0.jar\n"
          ]
        }
      ]
    },
    {
      "cell_type": "code",
      "source": [
        "# the one available with Hadoop is better, v 27\n",
        "!ls $HADOOP_HOME/share/hadoop/hdfs/lib/gu*"
      ],
      "metadata": {
        "colab": {
          "base_uri": "https://localhost:8080/"
        },
        "id": "eu8xMdyabhVd",
        "outputId": "923a7fcb-9e5a-4d00-c9df-2443818f50a2"
      },
      "execution_count": null,
      "outputs": [
        {
          "output_type": "stream",
          "name": "stdout",
          "text": [
            "/usr/local/hadoop-3.3.2//share/hadoop/hdfs/lib/guava-27.0-jre.jar\n"
          ]
        }
      ]
    },
    {
      "cell_type": "code",
      "source": [
        "# Remove the Hive Guava and replace with Hadoop Guava\n",
        "!mv $HIVE_HOME/lib/guava-19.0.jar ./\n",
        "!cp $HADOOP_HOME/share/hadoop/hdfs/lib/guava-27.0-jre.jar $HIVE_HOME/lib/"
      ],
      "metadata": {
        "id": "B4vZxLpvbjvW"
      },
      "execution_count": null,
      "outputs": []
    },
    {
      "cell_type": "markdown",
      "source": [
        "##2.5 Test HIVE\n"
      ],
      "metadata": {
        "id": "IMRRmyBSbq5P"
      }
    },
    {
      "cell_type": "code",
      "source": [
        "!hive -e \"create database if not exists hadoophivesqlDB;\""
      ],
      "metadata": {
        "colab": {
          "base_uri": "https://localhost:8080/"
        },
        "id": "MG6v99-UbsqG",
        "outputId": "ed55d5f0-26fb-43df-8548-9e9f92d51ee5"
      },
      "execution_count": null,
      "outputs": [
        {
          "output_type": "stream",
          "name": "stdout",
          "text": [
            "Hive Session ID = 581b3839-ab60-4dad-9db2-2fa54ea6bb87\n",
            "\n",
            "Logging initialized using configuration in jar:file:/content/apache-hive-3.1.2-bin/lib/hive-common-3.1.2.jar!/hive-log4j2.properties Async: true\n",
            "Hive Session ID = de0e89e4-f954-4112-a00e-fa3227ae765c\n",
            "OK\n",
            "Time taken: 1.39 seconds\n"
          ]
        }
      ]
    },
    {
      "cell_type": "code",
      "source": [
        "!hive -e \"show databases\""
      ],
      "metadata": {
        "colab": {
          "base_uri": "https://localhost:8080/"
        },
        "id": "iM4oMRq7cETN",
        "outputId": "ab75f843-9a1a-422c-c261-96ebd46cd6ac"
      },
      "execution_count": null,
      "outputs": [
        {
          "output_type": "stream",
          "name": "stdout",
          "text": [
            "Hive Session ID = 3c6fab7a-9b4d-45e6-9f96-5124f5948937\n",
            "\n",
            "Logging initialized using configuration in jar:file:/content/apache-hive-3.1.2-bin/lib/hive-common-3.1.2.jar!/hive-log4j2.properties Async: true\n",
            "Hive Session ID = 3bb3db94-3e8c-4704-8958-b5d842daf19c\n",
            "OK\n",
            "default\n",
            "hadoophivesqldb\n",
            "Time taken: 1.355 seconds, Fetched: 2 row(s)\n"
          ]
        }
      ]
    },
    {
      "cell_type": "code",
      "source": [
        "!hive -database hadoophivesqlDB -e \"create table if not exists stud (name string, age int)\""
      ],
      "metadata": {
        "colab": {
          "base_uri": "https://localhost:8080/"
        },
        "id": "sgAzgktau0uV",
        "outputId": "f9a6e496-bd8d-42f2-bc93-b9a0fdb67ecc"
      },
      "execution_count": null,
      "outputs": [
        {
          "output_type": "stream",
          "name": "stdout",
          "text": [
            "Hive Session ID = 7d9cd922-b127-429b-a964-18d5a873b87f\n",
            "\n",
            "Logging initialized using configuration in jar:file:/content/apache-hive-3.1.2-bin/lib/hive-common-3.1.2.jar!/hive-log4j2.properties Async: true\n",
            "Hive Session ID = 4ac01e9f-6481-4b5c-9650-f5c7e5cd4717\n",
            "OK\n",
            "Time taken: 1.025 seconds\n",
            "OK\n",
            "Time taken: 1.299 seconds\n"
          ]
        }
      ]
    },
    {
      "cell_type": "code",
      "source": [
        "!hive -database hadoophivesqlDB -e \"show tables\""
      ],
      "metadata": {
        "colab": {
          "base_uri": "https://localhost:8080/"
        },
        "id": "TL13okRou5x8",
        "outputId": "46e99885-cffd-4894-d489-732feebbd32a"
      },
      "execution_count": null,
      "outputs": [
        {
          "output_type": "stream",
          "name": "stdout",
          "text": [
            "Hive Session ID = 54f21859-2cef-45ce-b901-177825adad51\n",
            "\n",
            "Logging initialized using configuration in jar:file:/content/apache-hive-3.1.2-bin/lib/hive-common-3.1.2.jar!/hive-log4j2.properties Async: true\n",
            "Hive Session ID = 11b0aa8f-2406-4387-846c-4a1b022c2fb2\n",
            "OK\n",
            "Time taken: 1.127 seconds\n",
            "OK\n",
            "stud\n",
            "Time taken: 0.537 seconds, Fetched: 1 row(s)\n"
          ]
        }
      ]
    },
    {
      "cell_type": "code",
      "source": [
        "!hive -database hadoophivesqlDB -e \"insert into stud values ('harendra', 26)\""
      ],
      "metadata": {
        "colab": {
          "base_uri": "https://localhost:8080/"
        },
        "id": "btuaXGdsu7on",
        "outputId": "ee2e9330-90e0-40c1-893d-a35d9ea78c9a"
      },
      "execution_count": null,
      "outputs": [
        {
          "output_type": "stream",
          "name": "stdout",
          "text": [
            "Hive Session ID = 3a43008b-7b4e-4527-96bb-1c692603ba27\n",
            "\n",
            "Logging initialized using configuration in jar:file:/content/apache-hive-3.1.2-bin/lib/hive-common-3.1.2.jar!/hive-log4j2.properties Async: true\n",
            "Hive Session ID = 22a9fd57-4683-4fb7-960f-edbd0f5ef51f\n",
            "OK\n",
            "Time taken: 0.988 seconds\n",
            "Query ID = root_20220507211155_cf66a83f-0a24-4a22-885e-f7686d51bf3d\n",
            "Total jobs = 3\n",
            "Launching Job 1 out of 3\n",
            "Number of reduce tasks determined at compile time: 1\n",
            "In order to change the average load for a reducer (in bytes):\n",
            "  set hive.exec.reducers.bytes.per.reducer=<number>\n",
            "In order to limit the maximum number of reducers:\n",
            "  set hive.exec.reducers.max=<number>\n",
            "In order to set a constant number of reducers:\n",
            "  set mapreduce.job.reduces=<number>\n",
            "Job running in-process (local Hadoop)\n",
            "2022-05-07 21:12:01,068 Stage-1 map = 100%,  reduce = 100%\n",
            "Ended Job = job_local729590914_0001\n",
            "Stage-4 is selected by condition resolver.\n",
            "Stage-3 is filtered out by condition resolver.\n",
            "Stage-5 is filtered out by condition resolver.\n",
            "Moving data to directory file:/user/hive/warehouse/hadoophivesqldb.db/stud/.hive-staging_hive_2022-05-07_21-11-55_196_4137156700662209445-1/-ext-10000\n",
            "Loading data to table hadoophivesqldb.stud\n",
            "MapReduce Jobs Launched: \n",
            "Stage-Stage-1:  HDFS Read: 0 HDFS Write: 0 SUCCESS\n",
            "Total MapReduce CPU Time Spent: 0 msec\n",
            "OK\n",
            "Time taken: 7.007 seconds\n"
          ]
        }
      ]
    },
    {
      "cell_type": "code",
      "source": [
        "!hive -database hadoophivesqlDB -e \"insert into stud values ('aditya', 27)\""
      ],
      "metadata": {
        "colab": {
          "base_uri": "https://localhost:8080/"
        },
        "id": "T2OMzLNpvEbe",
        "outputId": "a5efa988-5312-4748-a45f-32837fb20f7f"
      },
      "execution_count": null,
      "outputs": [
        {
          "output_type": "stream",
          "name": "stdout",
          "text": [
            "Hive Session ID = 5f294290-4eef-4d3d-a4ba-75eae7c686d6\n",
            "\n",
            "Logging initialized using configuration in jar:file:/content/apache-hive-3.1.2-bin/lib/hive-common-3.1.2.jar!/hive-log4j2.properties Async: true\n",
            "Hive Session ID = 6e1f7070-e135-42a7-a097-65efa25a615c\n",
            "OK\n",
            "Time taken: 0.979 seconds\n",
            "Query ID = root_20220507211215_ed22686e-57a8-4c7a-8ac7-b9d7824c0e7b\n",
            "Total jobs = 3\n",
            "Launching Job 1 out of 3\n",
            "Number of reduce tasks determined at compile time: 1\n",
            "In order to change the average load for a reducer (in bytes):\n",
            "  set hive.exec.reducers.bytes.per.reducer=<number>\n",
            "In order to limit the maximum number of reducers:\n",
            "  set hive.exec.reducers.max=<number>\n",
            "In order to set a constant number of reducers:\n",
            "  set mapreduce.job.reduces=<number>\n",
            "Job running in-process (local Hadoop)\n",
            "2022-05-07 21:12:21,758 Stage-1 map = 100%,  reduce = 100%\n",
            "Ended Job = job_local2091845205_0001\n",
            "Stage-4 is selected by condition resolver.\n",
            "Stage-3 is filtered out by condition resolver.\n",
            "Stage-5 is filtered out by condition resolver.\n",
            "Moving data to directory file:/user/hive/warehouse/hadoophivesqldb.db/stud/.hive-staging_hive_2022-05-07_21-12-15_812_508707750325958323-1/-ext-10000\n",
            "Loading data to table hadoophivesqldb.stud\n",
            "MapReduce Jobs Launched: \n",
            "Stage-Stage-1:  HDFS Read: 0 HDFS Write: 0 SUCCESS\n",
            "Total MapReduce CPU Time Spent: 0 msec\n",
            "OK\n",
            "Time taken: 7.187 seconds\n"
          ]
        }
      ]
    },
    {
      "cell_type": "code",
      "source": [
        "!hive -database hadoophivesqlDB -e \"select * from stud\""
      ],
      "metadata": {
        "colab": {
          "base_uri": "https://localhost:8080/"
        },
        "id": "gL5IGnGtvLHE",
        "outputId": "a26cb094-2cbc-4f71-ba9e-d328d163b91b"
      },
      "execution_count": null,
      "outputs": [
        {
          "output_type": "stream",
          "name": "stdout",
          "text": [
            "Hive Session ID = d6402c0b-53d5-47b6-a21a-f00177b35ea1\n",
            "\n",
            "Logging initialized using configuration in jar:file:/content/apache-hive-3.1.2-bin/lib/hive-common-3.1.2.jar!/hive-log4j2.properties Async: true\n",
            "Hive Session ID = 2ce8ebca-15c1-4615-9640-f85a314aab9f\n",
            "OK\n",
            "Time taken: 0.995 seconds\n",
            "OK\n",
            "aditya\t27\n",
            "harendra\t26\n",
            "Time taken: 2.878 seconds, Fetched: 2 row(s)\n"
          ]
        }
      ]
    },
    {
      "cell_type": "code",
      "source": [
        "# Silent Mode\n",
        "!hive -S -database hadoophivesqlDB -e \"select * from stud\""
      ],
      "metadata": {
        "colab": {
          "base_uri": "https://localhost:8080/"
        },
        "id": "JuTiZ6IlvNdr",
        "outputId": "3afb3dd4-740c-495d-af61-abf444f4c03a"
      },
      "execution_count": null,
      "outputs": [
        {
          "output_type": "stream",
          "name": "stdout",
          "text": [
            "Hive Session ID = bfd9a6b2-50c4-41f8-9bb0-092b70eb8c8b\n",
            "Hive Session ID = ed9b389d-30c5-45f3-8354-96ca029746b0\n",
            "aditya\t27\n",
            "harendra\t26\n"
          ]
        }
      ]
    },
    {
      "cell_type": "markdown",
      "source": [
        "## 2.7 Bulk Data Load from CSV file"
      ],
      "metadata": {
        "id": "dLCoE7ofvTLr"
      }
    },
    {
      "cell_type": "code",
      "source": [
        "!hive -database hadoophivesqlDB -e \"LOAD DATA LOCAL INPATH '/content/ConsumerComplaints.csv' INTO TABLE stud\""
      ],
      "metadata": {
        "colab": {
          "base_uri": "https://localhost:8080/"
        },
        "id": "84m6gzI1vVAt",
        "outputId": "16c76ee1-d90d-4122-d59f-5babfca9b9b8"
      },
      "execution_count": null,
      "outputs": [
        {
          "output_type": "stream",
          "name": "stdout",
          "text": [
            "Hive Session ID = 692cfc25-058f-4012-9ce8-068d372146f6\n",
            "\n",
            "Logging initialized using configuration in jar:file:/content/apache-hive-3.1.2-bin/lib/hive-common-3.1.2.jar!/hive-log4j2.properties Async: true\n",
            "Hive Session ID = 02c71d94-bbed-49ec-8329-2021fc130474\n",
            "OK\n",
            "Time taken: 1.09 seconds\n",
            "Loading data to table hadoophivesqldb.stud\n",
            "OK\n",
            "Time taken: 1.831 seconds\n"
          ]
        }
      ]
    },
    {
      "cell_type": "code",
      "source": [
        "!hive -S -database hadoophivesqlDB -e \"select count(*) from stud\""
      ],
      "metadata": {
        "colab": {
          "base_uri": "https://localhost:8080/"
        },
        "id": "wjz72WXSwPVn",
        "outputId": "6cc50dc4-588e-47d1-eea6-3a3137ac13d5"
      },
      "execution_count": null,
      "outputs": [
        {
          "output_type": "stream",
          "name": "stdout",
          "text": [
            "Hive Session ID = 2e0f8529-3567-489f-ad8a-2b00431616b5\n",
            "Hive Session ID = 91a9b70a-f298-45a6-b78b-e124dc4c7427\n",
            "65502\n"
          ]
        }
      ]
    },
    {
      "cell_type": "code",
      "source": [
        "!hive -S -database hadoophivesqlDB -e \"select * from stud limit 50\""
      ],
      "metadata": {
        "colab": {
          "base_uri": "https://localhost:8080/"
        },
        "id": "Z2ZG7idcylc9",
        "outputId": "2226bc65-6d9d-454b-e496-295872bbb4e8"
      },
      "execution_count": null,
      "outputs": [
        {
          "output_type": "stream",
          "name": "stdout",
          "text": [
            "Hive Session ID = 7600489e-f3f2-4d09-b66d-bc071f1abe68\n",
            "Hive Session ID = 1917777a-a3dc-46e9-b20c-18fc70cbd1bc\n",
            "aditya\t27\n",
            "harendra\t26\n",
            "Complaint ID,Product Name,Issue,Company,Zip Code,Submitted\tNULL\n",
            "468882,Consumer Loan,Managing the loan or lease,Wells Fargo & Company,24540,Phone\tNULL\n",
            "468889,Bank account or service,Using a debit or ATM card,Wells Fargo & Company,95992,Web\tNULL\n",
            "468879,Bank account or service,\"Account opening, closing, or management\",Santander Bank US,10065,Fax\tNULL\n",
            "468949,Bank account or service,Deposits and withdrawals,Wells Fargo & Company,30084,Web\tNULL\n",
            "475823,Mortgage,\"Loan servicing, payments, escrow account\",Franklin Credit Management,6106,Web\tNULL\n",
            "468981,Bank account or service,Deposits and withdrawals,Bank of America,75025,Web\tNULL\n",
            "467801,Debt collection,Cont'd attempts collect debt not owed,\"NRA Group, LLC\",20147,Web\tNULL\n",
            "475728,Debt collection,Cont'd attempts collect debt not owed,\"SunTrust Banks, Inc.\",32818,Referral\tNULL\n",
            "469026,Credit card,Billing statement,Citibank,45247,Referral\tNULL\n",
            "469035,Mortgage,\"Loan servicing, payments, escrow account\",Wells Fargo & Company,89511,Referral\tNULL\n",
            "469037,Mortgage,\"Loan modification,collection,foreclosure\",Bank of America,27949,Referral\tNULL\n",
            "469284,Mortgage,\"Loan servicing, payments, escrow account\",JPMorgan Chase & Co.,90703,Referral\tNULL\n",
            "480488,Mortgage,\"Loan modification,collection,foreclosure\",Citibank,95821,Referral\tNULL\n",
            "468904,Debt collection,Communication tactics,\"Asset Management Professionals, LLC\",19145,Phone\tNULL\n",
            "468905,Debt collection,Communication tactics,Wells Fargo & Company,19145,Phone\tNULL\n",
            "469057,Mortgage,\"Loan modification,collection,foreclosure\",JPMorgan Chase & Co.,14092,Phone\tNULL\n",
            "469060,Mortgage,\"Loan modification,collection,foreclosure\",Ocwen,33426,Web\tNULL\n",
            "469070,Mortgage,\"Loan modification,collection,foreclosure\",JPMorgan Chase & Co.,10019,Web\tNULL\n",
            "472236,Mortgage,\"Loan servicing, payments, escrow account\",Citibank,7604,Web\tNULL\n",
            "469131,Credit card,APR or interest rate,Synchrony Financial,98548,Web\tNULL\n",
            "474204,Credit reporting,Credit monitoring or identity protection,Experian,90034,Web\tNULL\n",
            "469138,Mortgage,\"Loan modification,collection,foreclosure\",Bank of America,96793,Web\tNULL\n",
            "469143,Mortgage,\"Application, originator, mortgage broker\",JPMorgan Chase & Co.,32825,Postal mail\tNULL\n",
            "480173,Mortgage,\"Application, originator, mortgage broker\",Wells Fargo & Company,10605,Web\tNULL\n",
            "469360,Mortgage,\"Loan modification,collection,foreclosure\",Ocwen,14467,Referral\tNULL\n",
            "469632,Mortgage,\"Loan servicing, payments, escrow account\",U.S. Bancorp,92591,Referral\tNULL\n",
            "469173,Mortgage,\"Application, originator, mortgage broker\",Bank of America,60443,Web\tNULL\n",
            "469185,Bank account or service,Deposits and withdrawals,Wells Fargo & Company,96088,Web\tNULL\n",
            "469201,Credit reporting,Incorrect information on credit report,Equifax,91605,Web\tNULL\n",
            "469210,Student loan,Repaying your loan,\"Navient Solutions, Inc.\",45150,Web\tNULL\n",
            "469252,Debt collection,Cont'd attempts collect debt not owed,\"Northland Group, Inc.\",32233,Referral\tNULL\n",
            "469863,Mortgage,\"Loan modification,collection,foreclosure\",\"SunTrust Banks, Inc.\",32084,Referral\tNULL\n",
            "469255,Mortgage,\"Loan modification,collection,foreclosure\",Bank of America,33234,Web\tNULL\n",
            "469811,Mortgage,\"Loan servicing, payments, escrow account\",\"SunTrust Banks, Inc.\",32505,Referral\tNULL\n",
            "479329,Consumer Loan,Managing the loan or lease,Santander Consumer USA Holdings Inc,92677,Referral\tNULL\n",
            "454668,Mortgage,\"Loan modification,collection,foreclosure\",Land/Home Financial Services,48382,Fax\tNULL\n",
            "475273,Bank account or service,Deposits and withdrawals,JPMorgan Chase & Co.,8530,Postal mail\tNULL\n",
            "479990,Credit card,Delinquent account,Amex,78232,Web\tNULL\n",
            "469293,Mortgage,\"Loan modification,collection,foreclosure\",Nationstar Mortgage,30041,Web\tNULL\n",
            "469309,Bank account or service,\"Account opening, closing, or management\",Wells Fargo & Company,77381,Postal mail\tNULL\n",
            "469334,Mortgage,\"Loan modification,collection,foreclosure\",Ocwen,2368,Web\tNULL\n",
            "469340,Student loan,Repaying your loan,\"Navient Solutions, Inc.\",33133,Web\tNULL\n",
            "469487,Mortgage,\"Loan servicing, payments, escrow account\",CIT Bank National Association,11101,Web\tNULL\n",
            "469394,Mortgage,\"Loan servicing, payments, escrow account\",Bank of America,91701,Web\tNULL\n",
            "469408,Debt collection,Communication tactics,\"Alpine Financial Solutions, Inc.\",42303,Postal mail\tNULL\n",
            "469411,Mortgage,\"Loan servicing, payments, escrow account\",Ditech Financial LLC,37218,Web\tNULL\n",
            "469414,Bank account or service,Problems caused by my funds being low,Wells Fargo & Company,8618,Phone\tNULL\n"
          ]
        }
      ]
    }
  ]
}